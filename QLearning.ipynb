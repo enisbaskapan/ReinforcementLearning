{
 "cells": [
  {
   "cell_type": "code",
   "execution_count": 3,
   "id": "c2fd4519-0cce-44f8-a215-e2287a2ae3c3",
   "metadata": {},
   "outputs": [],
   "source": [
    "import gym\n",
    "import time\n",
    "import numpy as np\n",
    "import matplotlib.pyplot as plt\n",
    "import random"
   ]
  },
  {
   "cell_type": "code",
   "execution_count": 4,
   "id": "ff84c833-6014-4b30-b963-e99961d97812",
   "metadata": {},
   "outputs": [
    {
     "name": "stdout",
     "output_type": "stream",
     "text": [
      "+---------+\n",
      "|\u001b[35mR\u001b[0m: |\u001b[43m \u001b[0m: :G|\n",
      "| : | : : |\n",
      "| : : : : |\n",
      "| | : | : |\n",
      "|\u001b[34;1mY\u001b[0m| : |B: |\n",
      "+---------+\n",
      "\n",
      "\n"
     ]
    }
   ],
   "source": [
    "env = gym.make(\"Taxi-v3\", render_mode='ansi')\n",
    "env.reset()\n",
    "print(env.render())"
   ]
  },
  {
   "cell_type": "code",
   "execution_count": 5,
   "id": "3970818a-cfbf-42d4-a270-56d823bf0c85",
   "metadata": {},
   "outputs": [
    {
     "name": "stdout",
     "output_type": "stream",
     "text": [
      "State Space:  Discrete(500)\n",
      "Action Space:  Discrete(6)\n"
     ]
    }
   ],
   "source": [
    "print('State Space: ', env.observation_space)\n",
    "print('Action Space: ', env.action_space)"
   ]
  },
  {
   "cell_type": "code",
   "execution_count": 6,
   "id": "c7407dc6-d454-40e2-a729-c3b9e8c9b271",
   "metadata": {},
   "outputs": [
    {
     "name": "stdout",
     "output_type": "stream",
     "text": [
      "Selected State:  249\n"
     ]
    }
   ],
   "source": [
    "state = env.encode(2,2,2,1)\n",
    "print('Selected State: ', state)"
   ]
  },
  {
   "cell_type": "code",
   "execution_count": 7,
   "id": "c55c15ba-8921-42bb-bfd6-6b792e0a5be8",
   "metadata": {},
   "outputs": [
    {
     "data": {
      "text/plain": [
       "{0: [(1.0, 349, -1, False)],\n",
       " 1: [(1.0, 149, -1, False)],\n",
       " 2: [(1.0, 269, -1, False)],\n",
       " 3: [(1.0, 229, -1, False)],\n",
       " 4: [(1.0, 249, -10, False)],\n",
       " 5: [(1.0, 249, -10, False)]}"
      ]
     },
     "execution_count": 7,
     "metadata": {},
     "output_type": "execute_result"
    }
   ],
   "source": [
    "env.P[249]"
   ]
  },
  {
   "cell_type": "markdown",
   "id": "35b27c23-3e5f-433a-8895-2ceceea5b97f",
   "metadata": {},
   "source": [
    "# Taxi Gym Q-Learning"
   ]
  },
  {
   "cell_type": "code",
   "execution_count": 8,
   "id": "77870e8b-3b34-4710-b183-c4f57b703f73",
   "metadata": {},
   "outputs": [],
   "source": [
    "env = gym.make(\"Taxi-v3\", render_mode='ansi')"
   ]
  },
  {
   "cell_type": "code",
   "execution_count": 9,
   "id": "f0f27ce6-e495-4438-84b6-d62cd6f529f2",
   "metadata": {},
   "outputs": [],
   "source": [
    "states = env.observation_space.n\n",
    "actions = env.action_space.n"
   ]
  },
  {
   "cell_type": "code",
   "execution_count": 10,
   "id": "a1d8b78e-a924-4189-b9b9-c6f8b2f5a4a3",
   "metadata": {},
   "outputs": [],
   "source": [
    "# Q Table\n",
    "q_table = np.zeros([states, actions])"
   ]
  },
  {
   "cell_type": "code",
   "execution_count": 11,
   "id": "60e02f49-ed2a-4fb3-80b6-4a7d88708272",
   "metadata": {},
   "outputs": [],
   "source": [
    "# Hyperparameter\n",
    "lr = 0.1 # learning rate\n",
    "dr = 0.9 # discount rate\n",
    "epsilon = 0.1"
   ]
  },
  {
   "cell_type": "code",
   "execution_count": 12,
   "id": "4da271d0-ffd1-4b81-b622-69026978e354",
   "metadata": {},
   "outputs": [],
   "source": [
    "# Plot Metrics\n",
    "reward_list = []\n",
    "dropout_list = []"
   ]
  },
  {
   "cell_type": "code",
   "execution_count": 14,
   "id": "e3cf308d-ad2b-414d-9466-ef6078c4f29e",
   "metadata": {},
   "outputs": [],
   "source": [
    "# while not done vs if done"
   ]
  },
  {
   "cell_type": "code",
   "execution_count": 15,
   "id": "24250505-30c8-4630-85f7-13911ea449b0",
   "metadata": {},
   "outputs": [
    {
     "name": "stderr",
     "output_type": "stream",
     "text": [
      "/Users/enisbaskapan/opt/anaconda3/envs/rl/lib/python3.9/site-packages/gym/utils/passive_env_checker.py:233: DeprecationWarning: `np.bool8` is a deprecated alias for `np.bool_`.  (Deprecated NumPy 1.24)\n",
      "  if not isinstance(terminated, (bool, np.bool8)):\n"
     ]
    },
    {
     "name": "stdout",
     "output_type": "stream",
     "text": [
      "Episode: 100, Reward: -380, Wrong Dropout: 10\n",
      "Episode: 200, Reward: -189, Wrong Dropout: 6\n",
      "Episode: 300, Reward: -43, Wrong Dropout: 2\n",
      "Episode: 400, Reward: -80, Wrong Dropout: 2\n",
      "Episode: 500, Reward: -5, Wrong Dropout: 1\n",
      "Episode: 600, Reward: 6, Wrong Dropout: 0\n",
      "Episode: 700, Reward: -3, Wrong Dropout: 1\n",
      "Episode: 800, Reward: 9, Wrong Dropout: 0\n",
      "Episode: 900, Reward: -18, Wrong Dropout: 2\n",
      "Episode: 1000, Reward: -9, Wrong Dropout: 2\n",
      "Episode: 1100, Reward: 1, Wrong Dropout: 0\n",
      "Episode: 1200, Reward: 4, Wrong Dropout: 0\n",
      "Episode: 1300, Reward: -8, Wrong Dropout: 0\n",
      "Episode: 1400, Reward: 4, Wrong Dropout: 0\n",
      "Episode: 1500, Reward: 5, Wrong Dropout: 0\n",
      "Episode: 1600, Reward: 9, Wrong Dropout: 0\n",
      "Episode: 1700, Reward: 8, Wrong Dropout: 0\n",
      "Episode: 1800, Reward: 6, Wrong Dropout: 0\n",
      "Episode: 1900, Reward: 11, Wrong Dropout: 0\n",
      "Episode: 2000, Reward: 6, Wrong Dropout: 0\n",
      "Episode: 2100, Reward: 8, Wrong Dropout: 0\n",
      "Episode: 2200, Reward: 3, Wrong Dropout: 0\n",
      "Episode: 2300, Reward: 8, Wrong Dropout: 0\n",
      "Episode: 2400, Reward: -2, Wrong Dropout: 1\n",
      "Episode: 2500, Reward: 1, Wrong Dropout: 1\n",
      "Episode: 2600, Reward: -6, Wrong Dropout: 1\n",
      "Episode: 2700, Reward: 2, Wrong Dropout: 0\n",
      "Episode: 2800, Reward: 8, Wrong Dropout: 0\n",
      "Episode: 2900, Reward: -12, Wrong Dropout: 2\n",
      "Episode: 3000, Reward: 5, Wrong Dropout: 0\n",
      "Episode: 3100, Reward: 15, Wrong Dropout: 0\n",
      "Episode: 3200, Reward: 4, Wrong Dropout: 0\n",
      "Episode: 3300, Reward: -5, Wrong Dropout: 1\n",
      "Episode: 3400, Reward: 7, Wrong Dropout: 0\n",
      "Episode: 3500, Reward: 10, Wrong Dropout: 0\n",
      "Episode: 3600, Reward: -1, Wrong Dropout: 1\n",
      "Episode: 3700, Reward: 4, Wrong Dropout: 0\n",
      "Episode: 3800, Reward: 4, Wrong Dropout: 0\n",
      "Episode: 3900, Reward: -4, Wrong Dropout: 1\n",
      "Episode: 4000, Reward: -6, Wrong Dropout: 1\n",
      "Episode: 4100, Reward: 5, Wrong Dropout: 0\n",
      "Episode: 4200, Reward: -1, Wrong Dropout: 1\n",
      "Episode: 4300, Reward: -14, Wrong Dropout: 2\n",
      "Episode: 4400, Reward: -5, Wrong Dropout: 1\n",
      "Episode: 4500, Reward: -3, Wrong Dropout: 1\n",
      "Episode: 4600, Reward: -5, Wrong Dropout: 1\n",
      "Episode: 4700, Reward: 6, Wrong Dropout: 0\n",
      "Episode: 4800, Reward: -25, Wrong Dropout: 3\n",
      "Episode: 4900, Reward: 1, Wrong Dropout: 1\n",
      "Episode: 5000, Reward: 10, Wrong Dropout: 0\n",
      "Episode: 5100, Reward: -15, Wrong Dropout: 2\n",
      "Episode: 5200, Reward: 1, Wrong Dropout: 1\n",
      "Episode: 5300, Reward: 6, Wrong Dropout: 0\n",
      "Episode: 5400, Reward: 14, Wrong Dropout: 0\n",
      "Episode: 5500, Reward: 6, Wrong Dropout: 0\n",
      "Episode: 5600, Reward: 8, Wrong Dropout: 0\n",
      "Episode: 5700, Reward: 10, Wrong Dropout: 0\n",
      "Episode: 5800, Reward: 8, Wrong Dropout: 0\n",
      "Episode: 5900, Reward: -7, Wrong Dropout: 1\n",
      "Episode: 6000, Reward: 10, Wrong Dropout: 0\n",
      "Episode: 6100, Reward: 11, Wrong Dropout: 0\n",
      "Episode: 6200, Reward: -19, Wrong Dropout: 2\n",
      "Episode: 6300, Reward: 3, Wrong Dropout: 0\n",
      "Episode: 6400, Reward: -3, Wrong Dropout: 1\n",
      "Episode: 6500, Reward: -6, Wrong Dropout: 1\n",
      "Episode: 6600, Reward: -14, Wrong Dropout: 2\n",
      "Episode: 6700, Reward: -3, Wrong Dropout: 1\n",
      "Episode: 6800, Reward: 8, Wrong Dropout: 0\n",
      "Episode: 6900, Reward: 1, Wrong Dropout: 1\n",
      "Episode: 7000, Reward: 7, Wrong Dropout: 0\n",
      "Episode: 7100, Reward: 3, Wrong Dropout: 0\n",
      "Episode: 7200, Reward: 8, Wrong Dropout: 0\n",
      "Episode: 7300, Reward: 8, Wrong Dropout: 0\n",
      "Episode: 7400, Reward: 8, Wrong Dropout: 0\n",
      "Episode: 7500, Reward: 8, Wrong Dropout: 0\n",
      "Episode: 7600, Reward: 10, Wrong Dropout: 0\n",
      "Episode: 7700, Reward: -4, Wrong Dropout: 1\n",
      "Episode: 7800, Reward: 2, Wrong Dropout: 0\n",
      "Episode: 7900, Reward: 10, Wrong Dropout: 0\n",
      "Episode: 8000, Reward: 14, Wrong Dropout: 0\n",
      "Episode: 8100, Reward: 12, Wrong Dropout: 0\n",
      "Episode: 8200, Reward: 5, Wrong Dropout: 0\n",
      "Episode: 8300, Reward: 7, Wrong Dropout: 0\n",
      "Episode: 8400, Reward: 5, Wrong Dropout: 0\n",
      "Episode: 8500, Reward: 3, Wrong Dropout: 0\n",
      "Episode: 8600, Reward: -4, Wrong Dropout: 1\n",
      "Episode: 8700, Reward: -17, Wrong Dropout: 2\n",
      "Episode: 8800, Reward: 7, Wrong Dropout: 0\n",
      "Episode: 8900, Reward: 8, Wrong Dropout: 0\n",
      "Episode: 9000, Reward: -3, Wrong Dropout: 1\n",
      "Episode: 9100, Reward: 3, Wrong Dropout: 0\n",
      "Episode: 9200, Reward: 1, Wrong Dropout: 1\n",
      "Episode: 9300, Reward: 13, Wrong Dropout: 0\n",
      "Episode: 9400, Reward: 6, Wrong Dropout: 0\n",
      "Episode: 9500, Reward: 4, Wrong Dropout: 0\n",
      "Episode: 9600, Reward: 0, Wrong Dropout: 0\n",
      "Episode: 9700, Reward: 9, Wrong Dropout: 0\n",
      "Episode: 9800, Reward: 6, Wrong Dropout: 0\n",
      "Episode: 9900, Reward: -6, Wrong Dropout: 1\n",
      "Episode: 10000, Reward: -7, Wrong Dropout: 1\n"
     ]
    }
   ],
   "source": [
    "episode_count = 10000\n",
    "for i in range (1,episode_count+1):\n",
    "    \n",
    "    done = False\n",
    "    # init env\n",
    "    state = env.reset()[0]\n",
    "    \n",
    "    reward_total = 0\n",
    "    dropout_count = 0\n",
    "    \n",
    "    while True:    \n",
    "        # exploit vs explore\n",
    "        # 70% explore\n",
    "        if random.uniform(0,1) < epsilon:\n",
    "            action = env.action_space.sample()\n",
    "        else:\n",
    "            action = np.argmax(q_table[state])\n",
    "        \n",
    "        # action process and take reward / observation\n",
    "        next_state, reward, done, _, _ = env.step(action)\n",
    "        \n",
    "        # Q Learning \n",
    "        old_value = q_table[state][action]\n",
    "        next_max = np.max(q_table[next_state])\n",
    "        next_value = (1-lr) * old_value + lr * (reward + dr * next_max)\n",
    "        \n",
    "        # Q table update\n",
    "        q_table[state][action] = next_value\n",
    "        \n",
    "        # state update\n",
    "        state = next_state\n",
    "        \n",
    "        # wrong dropouts\n",
    "        if reward == -10:\n",
    "            dropout_count += 1\n",
    "        \n",
    "        reward_total += reward\n",
    "        \n",
    "        if done:\n",
    "            break\n",
    "    \n",
    "    if i%100 == 0:\n",
    "        dropout_list.append(dropout_count)\n",
    "        reward_list.append(reward_total)\n",
    "        print(f'Episode: {i}, Reward: {reward_total}, Wrong Dropout: {dropout_count}')"
   ]
  },
  {
   "cell_type": "code",
   "execution_count": 16,
   "id": "77e2c10e-89ff-477c-ac81-5f597355244e",
   "metadata": {},
   "outputs": [
    {
     "data": {
      "text/plain": [
       "Text(0, 0.5, 'dropouts')"
      ]
     },
     "execution_count": 16,
     "metadata": {},
     "output_type": "execute_result"
    },
    {
     "data": {
      "image/png": "[encoded data removed]",
      "text/plain": [
       "<Figure size 1080x1224 with 2 Axes>"
      ]
     },
     "metadata": {
      "needs_background": "light"
     },
     "output_type": "display_data"
    }
   ],
   "source": [
    "plt.figure(figsize=(15,17))\n",
    "plt.subplot(2,1,1)\n",
    "plt.plot(reward_list)\n",
    "plt.xlabel('episode')\n",
    "plt.ylabel('reward')\n",
    "\n",
    "plt.subplot(2,1,2)\n",
    "plt.plot(dropout_list)\n",
    "plt.xlabel('episode')\n",
    "plt.ylabel('dropouts')"
   ]
  }
 ],
 "metadata": {
  "kernelspec": {
   "display_name": "rl",
   "language": "python",
   "name": "rl"
  },
  "language_info": {
   "codemirror_mode": {
    "name": "ipython",
    "version": 3
   },
   "file_extension": ".py",
   "mimetype": "text/x-python",
   "name": "python",
   "nbconvert_exporter": "python",
   "pygments_lexer": "ipython3",
   "version": "3.9.0"
  }
 },
 "nbformat": 4,
 "nbformat_minor": 5
}
