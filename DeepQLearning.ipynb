{
 "cells": [
  {
   "cell_type": "code",
   "execution_count": 7,
   "id": "e77a7507-55d8-4e83-ad3b-2cca9c3414c4",
   "metadata": {},
   "outputs": [],
   "source": [
    "import gymnasium as gym\n",
    "import numpy as np\n",
    "from collections import deque\n",
    "import random\n",
    "import matplotlib.pyplot as plt\n",
    "\n",
    "from keras.models import Sequential\n",
    "from keras.layers import Dense\n",
    "from tensorflow.keras.optimizers.legacy import Adam"
   ]
  },
  {
   "cell_type": "code",
   "execution_count": 8,
   "id": "9748186b-8025-446f-a596-dc470470b164",
   "metadata": {
    "tags": []
   },
   "outputs": [],
   "source": [
    "class DQLAgent:\n",
    "    \n",
    "    def __init__(self, env):\n",
    "        # parameter / hyperparameter\n",
    "        self.state_size = env.observation_space.shape[0]\n",
    "        self.action_size = env.action_space.n\n",
    "        \n",
    "        self.gamma = 0.95\n",
    "        self.learning_rate = 0.001\n",
    "        \n",
    "        self.epsilon = 1\n",
    "        self.epsilon_decay = 0.995\n",
    "        self.epsilon_min = 0.01\n",
    "        \n",
    "        self.memory = deque(maxlen = 1000)\n",
    "        \n",
    "        self.model = self.build_model()\n",
    "        \n",
    "    def build_model(self):\n",
    "        # NN for Deep Q\n",
    "        model = Sequential()\n",
    "        model.add(Dense(48, input_dim=self.state_size, activation='tanh'))\n",
    "        model.add(Dense(self.action_size, activation='linear'))\n",
    "        \n",
    "        model.compile(loss='mse', optimizer=Adam(learning_rate=self.learning_rate))\n",
    "    \n",
    "        return model\n",
    "        \n",
    "    def remember(self, state, action, reward, next_state, done):\n",
    "        # storage\n",
    "        self.memory.append((state, action, reward, next_state, done))\n",
    "    \n",
    "    def act(self, state):\n",
    "        # acting\n",
    "        if random.uniform(0,1) < self.epsilon:\n",
    "            action = env.action_space.sample()\n",
    "        else:\n",
    "            act_values = self.model.predict(state, verbose=0)\n",
    "            action = np.argmax(act_values[0])\n",
    "            \n",
    "        return action\n",
    "    \n",
    "    def replay(self, batch_size):\n",
    "        # training\n",
    "        if len(self.memory) < batch_size:\n",
    "            return\n",
    "        minibatch = random.sample(self.memory, batch_size)\n",
    "        for state, action, reward, next_state, done in minibatch:\n",
    "            if done:\n",
    "                target = reward\n",
    "            else:\n",
    "                target = reward + self.gamma * np.amax(self.model.predict(next_state, verbose=0)[0])\n",
    "            train_target = self.model.predict(state, verbose=0)\n",
    "            train_target[0][action] = target\n",
    "            self.model.fit(state, train_target, verbose=0)\n",
    "            \n",
    "    def adaptiveGreedy(self):\n",
    "        # epsilon decay\n",
    "        if self.epsilon > self.epsilon_min:\n",
    "            self.epsilon *= self.epsilon_decay"
   ]
  },
  {
   "cell_type": "code",
   "execution_count": 9,
   "id": "73521e98-c883-4dd0-afc3-bfd3368dff60",
   "metadata": {},
   "outputs": [
    {
     "name": "stdout",
     "output_type": "stream",
     "text": [
      "Episode: 0\n",
      "Episode: 1\n",
      "Episode: 2\n"
     ]
    },
    {
     "name": "stderr",
     "output_type": "stream",
     "text": [
      "\n",
      "KeyboardInterrupt\n",
      "\n"
     ]
    }
   ],
   "source": [
    "# initialize env and agent\n",
    "env = gym.make('CartPole-v1')\n",
    "agent = DQLAgent(env)\n",
    "\n",
    "batch_size = 16\n",
    "episodes = 100\n",
    "for e in range(episodes):\n",
    "    # init env\n",
    "    state = env.reset()[0]\n",
    "    state = np.reshape(state, [1,4])\n",
    "\n",
    "    done = False\n",
    "    while True:\n",
    "        #act\n",
    "        action = agent.act(state)\n",
    "        #step\n",
    "        next_state, reward, done, _, _ = env.step(action)\n",
    "        next_state = np.reshape(next_state, [1,4])\n",
    "        #remember/storage\n",
    "        agent.remember(state, action, reward, next_state, done)\n",
    "        #update state\n",
    "        state = next_state\n",
    "        #replay\n",
    "        agent.replay(batch_size)\n",
    "        #adjust epsilon\n",
    "        agent.adaptiveGreedy()\n",
    "\n",
    "        if done:\n",
    "            print(f'Episode: {e}')\n",
    "            break"
   ]
  }
 ],
 "metadata": {
  "kernelspec": {
   "display_name": "rl",
   "language": "python",
   "name": "rl"
  },
  "language_info": {
   "codemirror_mode": {
    "name": "ipython",
    "version": 3
   },
   "file_extension": ".py",
   "mimetype": "text/x-python",
   "name": "python",
   "nbconvert_exporter": "python",
   "pygments_lexer": "ipython3",
   "version": "3.9.0"
  }
 },
 "nbformat": 4,
 "nbformat_minor": 5
}
